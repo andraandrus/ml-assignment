{
 "cells": [
  {
   "cell_type": "markdown",
   "metadata": {},
   "source": [
    "We will first replace the categorical variable OCEAN_PROXIMITY with one-hot vectors."
   ]
  },
  {
   "cell_type": "code",
   "execution_count": null,
   "metadata": {},
   "outputs": [],
   "source": []
  },
  {
   "cell_type": "markdown",
   "metadata": {},
   "source": [
    "For the scope of this baseline regression model, we will implement three different approaches to managing missing values in the total_bedrooms column of the data set."
   ]
  },
  {
   "cell_type": "markdown",
   "metadata": {},
   "source": [
    "Approach 1: Replace missing values with the average value of all total_bedrooms column entries."
   ]
  },
  {
   "cell_type": "code",
   "execution_count": null,
   "metadata": {},
   "outputs": [],
   "source": [
    "#Find out how many values are missing from the total_bedroom column\n",
    "not_missing = housing.total_bedrooms.notna()\n",
    "missing = housing.total_bedrooms.isna()\n",
    "\n",
    "#Calculate average value\n",
    "count = sum(not_missing)\n",
    "vals = sum(housing.total_bedrooms.values[not_missing])\n",
    "avg = vals/count\n",
    "print('Average value of total_bedrooms column is ' + avg)\n",
    "\n",
    "#Replace missing values with calculated average\n",
    "for index in range(0, len(missing)):\n",
    "    if missing[index]:\n",
    "        housing.total_bedrooms[index] = avg"
   ]
  },
  {
   "cell_type": "markdown",
   "metadata": {},
   "source": [
    "Approach 2: Replace with values from nearest neighbours using KNN algorithm."
   ]
  }
 ],
 "metadata": {
  "kernelspec": {
   "display_name": "Python 3",
   "language": "python",
   "name": "python3"
  },
  "language_info": {
   "codemirror_mode": {
    "name": "ipython",
    "version": 3
   },
   "file_extension": ".py",
   "mimetype": "text/x-python",
   "name": "python",
   "nbconvert_exporter": "python",
   "pygments_lexer": "ipython3",
   "version": "3.7.0"
  }
 },
 "nbformat": 4,
 "nbformat_minor": 2
}
